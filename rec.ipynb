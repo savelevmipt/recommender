{
 "cells": [
  {
   "cell_type": "code",
   "execution_count": 17,
   "metadata": {},
   "outputs": [
    {
     "name": "stdout",
     "output_type": "stream",
     "text": [
      "Preparing data...\n",
      "18 unique movieid entities within 26 testset interactions were filtered. Reason: not in the training data.\n",
      "1 unique movieid entities within 1 holdout interactions were filtered. Reason: not in the training data.\n",
      "1 of 1208 userid entities were filtered out from holdout. Reason: incompatible number of items.\n",
      "1 userid entities were filtered out from testset. Reason: inconsistent with holdout.\n",
      "Done.\n",
      "There are 807458 events in the training and 3621 events in the holdout.\n",
      "PureSVD training time: 0.168s\n"
     ]
    },
    {
     "data": {
      "text/plain": [
       "[Relevance(precision=0.09304059652029825, recall=0.3101353217343275, fallout=None, specifity=None, miss_rate=0.6898646782656724),\n",
       " Ranking(ndcg=22.062267861937812, ndcl=None, map=0.16226027187087672, arhr=0.42130659775647344),\n",
       " Experience(coverage=0.11499864388391647),\n",
       " Hits(true_positive=1123, false_positive=10947, true_negative=None, false_negative=2498)]"
      ]
     },
     "execution_count": 17,
     "metadata": {},
     "output_type": "execute_result"
    }
   ],
   "source": [
    "from polara.recommender.data import RecommenderData\n",
    "from polara.recommender.models import SVDModel\n",
    "from polara.datasets.movielens import get_movielens_data\n",
    "# get data and convert it into appropriate format\n",
    "ml_data = get_movielens_data(get_genres=False)\n",
    "data_model = RecommenderData(ml_data, 'userid', 'movieid', 'rating')\n",
    "# build PureSVD model and evaluate it\n",
    "svd = SVDModel(data_model)\n",
    "svd.build()\n",
    "svd.evaluate()\n"
   ]
  },
  {
   "cell_type": "code",
   "execution_count": null,
   "metadata": {},
   "outputs": [],
   "source": []
  }
 ],
 "metadata": {
  "kernelspec": {
   "display_name": "Python 3",
   "language": "python",
   "name": "python3"
  },
  "language_info": {
   "codemirror_mode": {
    "name": "ipython",
    "version": 3
   },
   "file_extension": ".py",
   "mimetype": "text/x-python",
   "name": "python",
   "nbconvert_exporter": "python",
   "pygments_lexer": "ipython3",
   "version": "3.9.6"
  },
  "orig_nbformat": 4
 },
 "nbformat": 4,
 "nbformat_minor": 2
}
