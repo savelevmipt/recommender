{
 "cells": [
  {
   "cell_type": "code",
   "execution_count": 3,
   "metadata": {},
   "outputs": [
    {
     "name": "stdout",
     "output_type": "stream",
     "text": [
      "Requirement already satisfied: rankfm in /Users/savelevaleksandr/opt/anaconda3/lib/python3.8/site-packages (0.2.5)\n",
      "Requirement already satisfied: pandas>=0.24 in /Users/savelevaleksandr/opt/anaconda3/lib/python3.8/site-packages (from rankfm) (1.1.3)\n",
      "Requirement already satisfied: numpy>=1.15 in /Users/savelevaleksandr/opt/anaconda3/lib/python3.8/site-packages (from rankfm) (1.21.2)\n",
      "Requirement already satisfied: pytz>=2017.2 in /Users/savelevaleksandr/opt/anaconda3/lib/python3.8/site-packages (from pandas>=0.24->rankfm) (2020.1)\n",
      "Requirement already satisfied: python-dateutil>=2.7.3 in /Users/savelevaleksandr/opt/anaconda3/lib/python3.8/site-packages (from pandas>=0.24->rankfm) (2.8.1)\n",
      "Requirement already satisfied: six>=1.5 in /Users/savelevaleksandr/opt/anaconda3/lib/python3.8/site-packages (from python-dateutil>=2.7.3->pandas>=0.24->rankfm) (1.16.0)\n",
      "\n",
      "\u001b[1m[\u001b[0m\u001b[34;49mnotice\u001b[0m\u001b[1;39;49m]\u001b[0m\u001b[39;49m A new release of pip available: \u001b[0m\u001b[31;49m22.3.1\u001b[0m\u001b[39;49m -> \u001b[0m\u001b[32;49m23.1.2\u001b[0m\n",
      "\u001b[1m[\u001b[0m\u001b[34;49mnotice\u001b[0m\u001b[1;39;49m]\u001b[0m\u001b[39;49m To update, run: \u001b[0m\u001b[32;49mpip install --upgrade pip\u001b[0m\n"
     ]
    }
   ],
   "source": [
    "!pip install rankfm"
   ]
  },
  {
   "cell_type": "code",
   "execution_count": 6,
   "metadata": {},
   "outputs": [
    {
     "name": "stdout",
     "output_type": "stream",
     "text": [
      "Apple clang version 14.0.3 (clang-1403.0.22.14.1)\n",
      "Target: x86_64-apple-darwin22.3.0\n",
      "Thread model: posix\n",
      "InstalledDir: /Library/Developer/CommandLineTools/usr/bin\n"
     ]
    }
   ],
   "source": [
    "!gcc --version"
   ]
  },
  {
   "cell_type": "code",
   "execution_count": 7,
   "metadata": {},
   "outputs": [
    {
     "ename": "ModuleNotFoundError",
     "evalue": "No module named 'rankfm'",
     "output_type": "error",
     "traceback": [
      "\u001b[0;31m---------------------------------------------------------------------------\u001b[0m",
      "\u001b[0;31mModuleNotFoundError\u001b[0m                       Traceback (most recent call last)",
      "Cell \u001b[0;32mIn[7], line 1\u001b[0m\n\u001b[0;32m----> 1\u001b[0m \u001b[39mfrom\u001b[39;00m \u001b[39mrankfm\u001b[39;00m\u001b[39m.\u001b[39;00m\u001b[39mrankfm\u001b[39;00m \u001b[39mimport\u001b[39;00m RankFM\n",
      "\u001b[0;31mModuleNotFoundError\u001b[0m: No module named 'rankfm'"
     ]
    }
   ],
   "source": [
    "from rankfm.rankfm import RankFM"
   ]
  },
  {
   "cell_type": "code",
   "execution_count": 12,
   "metadata": {},
   "outputs": [
    {
     "name": "stdout",
     "output_type": "stream",
     "text": [
      "Defaulting to user installation because normal site-packages is not writeable\n",
      "Collecting recommenders\n",
      "  Downloading recommenders-1.1.1-py3-none-any.whl (339 kB)\n",
      "\u001b[2K     \u001b[90m━━━━━━━━━━━━━━━━━━━━━━━━━━━━━━━━━━━━━━━\u001b[0m \u001b[32m339.0/339.0 kB\u001b[0m \u001b[31m2.4 MB/s\u001b[0m eta \u001b[36m0:00:00\u001b[0m00:01\u001b[0m00:01\u001b[0m\n",
      "\u001b[?25hRequirement already satisfied: numpy>=1.19 in /Users/savelevaleksandr/Library/Python/3.9/lib/python/site-packages (from recommenders) (1.23.5)\n",
      "Collecting pandas<2,>1.0.3 (from recommenders)\n",
      "  Downloading pandas-1.5.3-cp39-cp39-macosx_10_9_x86_64.whl (12.0 MB)\n",
      "\u001b[2K     \u001b[90m━━━━━━━━━━━━━━━━━━━━━━━━━━━━━━━━━━━━━━━━\u001b[0m \u001b[32m12.0/12.0 MB\u001b[0m \u001b[31m1.5 MB/s\u001b[0m eta \u001b[36m0:00:00\u001b[0m00:01\u001b[0m00:01\u001b[0m\n",
      "\u001b[?25hRequirement already satisfied: scipy<2,>=1.0.0 in /Users/savelevaleksandr/Library/Python/3.9/lib/python/site-packages (from recommenders) (1.10.1)\n",
      "Collecting tqdm<5,>=4.31.1 (from recommenders)\n",
      "  Downloading tqdm-4.65.0-py3-none-any.whl (77 kB)\n",
      "\u001b[2K     \u001b[90m━━━━━━━━━━━━━━━━━━━━━━━━━━━━━━━━━━━━━━━━\u001b[0m \u001b[32m77.1/77.1 kB\u001b[0m \u001b[31m1.0 MB/s\u001b[0m eta \u001b[36m0:00:00\u001b[0ma \u001b[36m0:00:01\u001b[0m\n",
      "\u001b[?25hRequirement already satisfied: matplotlib<4,>=2.2.2 in /Users/savelevaleksandr/Library/Python/3.9/lib/python/site-packages (from recommenders) (3.7.1)\n",
      "Collecting scikit-learn<1.0.3,>=0.22.1 (from recommenders)\n",
      "  Downloading scikit_learn-1.0.2-cp39-cp39-macosx_10_13_x86_64.whl (8.0 MB)\n",
      "\u001b[2K     \u001b[90m━━━━━━━━━━━━━━━━━━━━━━━━━━━━━━━━━━━━━━━━\u001b[0m \u001b[32m8.0/8.0 MB\u001b[0m \u001b[31m1.6 MB/s\u001b[0m eta \u001b[36m0:00:00\u001b[0m00:01\u001b[0m00:01\u001b[0m\n",
      "\u001b[?25hRequirement already satisfied: numba<1,>=0.38.1 in /Users/savelevaleksandr/Library/Python/3.9/lib/python/site-packages (from recommenders) (0.56.4)\n",
      "Collecting lightfm<2,>=1.15 (from recommenders)\n",
      "  Downloading lightfm-1.17.tar.gz (316 kB)\n",
      "\u001b[2K     \u001b[90m━━━━━━━━━━━━━━━━━━━━━━━━━━━━━━━━━━━━━━━\u001b[0m \u001b[32m316.4/316.4 kB\u001b[0m \u001b[31m1.2 MB/s\u001b[0m eta \u001b[36m0:00:00\u001b[0ma \u001b[36m0:00:01\u001b[0m\n",
      "\u001b[?25h  Preparing metadata (setup.py) ... \u001b[?25ldone\n",
      "\u001b[?25hCollecting lightgbm>=2.2.1 (from recommenders)\n",
      "  Downloading lightgbm-3.3.5-py3-none-macosx_10_15_x86_64.macosx_11_6_x86_64.macosx_12_0_x86_64.whl (1.3 MB)\n",
      "\u001b[2K     \u001b[90m━━━━━━━━━━━━━━━━━━━━━━━━━━━━━━━━━━━━━━━━\u001b[0m \u001b[32m1.3/1.3 MB\u001b[0m \u001b[31m1.5 MB/s\u001b[0m eta \u001b[36m0:00:00\u001b[0m00:01\u001b[0m00:01\u001b[0m\n",
      "\u001b[?25hCollecting memory-profiler<1,>=0.54.0 (from recommenders)\n",
      "  Downloading memory_profiler-0.61.0-py3-none-any.whl (31 kB)\n",
      "Collecting nltk<4,>=3.4 (from recommenders)\n",
      "  Downloading nltk-3.8.1-py3-none-any.whl (1.5 MB)\n",
      "\u001b[2K     \u001b[90m━━━━━━━━━━━━━━━━━━━━━━━━━━━━━━━━━━━━━━━━\u001b[0m \u001b[32m1.5/1.5 MB\u001b[0m \u001b[31m1.9 MB/s\u001b[0m eta \u001b[36m0:00:00\u001b[0m00:01\u001b[0m00:01\u001b[0m\n",
      "\u001b[?25hRequirement already satisfied: seaborn<1,>=0.8.1 in /Users/savelevaleksandr/Library/Python/3.9/lib/python/site-packages (from recommenders) (0.12.2)\n",
      "Collecting transformers<5,>=2.5.0 (from recommenders)\n",
      "  Using cached transformers-4.28.1-py3-none-any.whl (7.0 MB)\n",
      "Collecting bottleneck<2,>=1.2.1 (from recommenders)\n",
      "  Downloading Bottleneck-1.3.7-cp39-cp39-macosx_10_9_x86_64.whl (114 kB)\n",
      "\u001b[2K     \u001b[90m━━━━━━━━━━━━━━━━━━━━━━━━━━━━━━━━━━━━━━━\u001b[0m \u001b[32m115.0/115.0 kB\u001b[0m \u001b[31m1.6 MB/s\u001b[0m eta \u001b[36m0:00:00\u001b[0m00:01\u001b[0m\n",
      "\u001b[?25hCollecting category-encoders<2,>=1.3.0 (from recommenders)\n",
      "  Downloading category_encoders-1.3.0-py2.py3-none-any.whl (61 kB)\n",
      "\u001b[2K     \u001b[90m━━━━━━━━━━━━━━━━━━━━━━━━━━━━━━━━━━━━━━━━\u001b[0m \u001b[32m61.4/61.4 kB\u001b[0m \u001b[31m1.5 MB/s\u001b[0m eta \u001b[36m0:00:00\u001b[0m\n",
      "\u001b[?25hCollecting jinja2<3.1,>=2 (from recommenders)\n",
      "  Downloading Jinja2-3.0.3-py3-none-any.whl (133 kB)\n",
      "\u001b[2K     \u001b[90m━━━━━━━━━━━━━━━━━━━━━━━━━━━━━━━━━━━━━━━\u001b[0m \u001b[32m133.6/133.6 kB\u001b[0m \u001b[31m1.5 MB/s\u001b[0m eta \u001b[36m0:00:00\u001b[0m00:01\u001b[0m00:01\u001b[0m\n",
      "\u001b[?25hCollecting pyyaml<6,>=5.4.1 (from recommenders)\n",
      "  Downloading PyYAML-5.4.1-cp39-cp39-macosx_10_9_x86_64.whl (259 kB)\n",
      "\u001b[2K     \u001b[90m━━━━━━━━━━━━━━━━━━━━━━━━━━━━━━━━━━━━━━━\u001b[0m \u001b[32m259.3/259.3 kB\u001b[0m \u001b[31m1.9 MB/s\u001b[0m eta \u001b[36m0:00:00\u001b[0m00:01\u001b[0m00:01\u001b[0m\n",
      "\u001b[?25hRequirement already satisfied: requests<3,>=2.0.0 in /Users/savelevaleksandr/Library/Python/3.9/lib/python/site-packages (from recommenders) (2.28.2)\n",
      "Collecting cornac<2,>=1.1.2 (from recommenders)\n",
      "  Downloading cornac-1.15.1-cp39-cp39-macosx_10_15_x86_64.whl (3.1 MB)\n",
      "\u001b[2K     \u001b[90m━━━━━━━━━━━━━━━━━━━━━━━━━━━━━━━━━━━━━━━━\u001b[0m \u001b[32m3.1/3.1 MB\u001b[0m \u001b[31m2.4 MB/s\u001b[0m eta \u001b[36m0:00:00\u001b[0m00:01\u001b[0m00:01\u001b[0m\n",
      "\u001b[?25hCollecting retrying>=1.3.3 (from recommenders)\n",
      "  Downloading retrying-1.3.4-py3-none-any.whl (11 kB)\n",
      "Collecting pandera[strategies]>=0.6.5 (from recommenders)\n",
      "  Downloading pandera-0.14.5-py3-none-any.whl (149 kB)\n",
      "\u001b[2K     \u001b[90m━━━━━━━━━━━━━━━━━━━━━━━━━━━━━━━━━━━━━━━\u001b[0m \u001b[32m149.3/149.3 kB\u001b[0m \u001b[31m2.3 MB/s\u001b[0m eta \u001b[36m0:00:00\u001b[0ma \u001b[36m0:00:01\u001b[0m\n",
      "\u001b[?25hCollecting scikit-surprise>=1.0.6 (from recommenders)\n",
      "  Downloading scikit-surprise-1.1.3.tar.gz (771 kB)\n",
      "\u001b[2K     \u001b[90m━━━━━━━━━━━━━━━━━━━━━━━━━━━━━━━━━━━━━━━\u001b[0m \u001b[32m772.0/772.0 kB\u001b[0m \u001b[31m2.8 MB/s\u001b[0m eta \u001b[36m0:00:00\u001b[0ma \u001b[36m0:00:01\u001b[0m\n",
      "\u001b[?25h  Preparing metadata (setup.py) ... \u001b[?25ldone\n",
      "\u001b[?25hCollecting statsmodels>=0.6.1 (from category-encoders<2,>=1.3.0->recommenders)\n",
      "  Downloading statsmodels-0.14.0-cp39-cp39-macosx_10_9_x86_64.whl (9.9 MB)\n",
      "\u001b[2K     \u001b[90m━━━━━━━━━━━━━━━━━━━━━━━━━━━━━━━━━━━━━━━━\u001b[0m \u001b[32m9.9/9.9 MB\u001b[0m \u001b[31m1.9 MB/s\u001b[0m eta \u001b[36m0:00:00\u001b[0m00:01\u001b[0m00:01\u001b[0m\n",
      "\u001b[?25hCollecting patsy>=0.4.1 (from category-encoders<2,>=1.3.0->recommenders)\n",
      "  Downloading patsy-0.5.3-py2.py3-none-any.whl (233 kB)\n",
      "\u001b[2K     \u001b[90m━━━━━━━━━━━━━━━━━━━━━━━━━━━━━━━━━━━━━━━\u001b[0m \u001b[32m233.8/233.8 kB\u001b[0m \u001b[31m1.3 MB/s\u001b[0m eta \u001b[36m0:00:00\u001b[0ma \u001b[36m0:00:01\u001b[0m\n",
      "\u001b[?25hCollecting powerlaw (from cornac<2,>=1.1.2->recommenders)\n",
      "  Downloading powerlaw-1.5-py3-none-any.whl (24 kB)\n",
      "Requirement already satisfied: MarkupSafe>=2.0 in /Users/savelevaleksandr/Library/Python/3.9/lib/python/site-packages (from jinja2<3.1,>=2->recommenders) (2.1.2)\n",
      "Requirement already satisfied: wheel in /Library/Developer/CommandLineTools/Library/Frameworks/Python3.framework/Versions/3.9/lib/python3.9/site-packages (from lightgbm>=2.2.1->recommenders) (0.37.0)\n",
      "Requirement already satisfied: contourpy>=1.0.1 in /Users/savelevaleksandr/Library/Python/3.9/lib/python/site-packages (from matplotlib<4,>=2.2.2->recommenders) (1.0.7)\n",
      "Requirement already satisfied: cycler>=0.10 in /Users/savelevaleksandr/Library/Python/3.9/lib/python/site-packages (from matplotlib<4,>=2.2.2->recommenders) (0.11.0)\n",
      "Requirement already satisfied: fonttools>=4.22.0 in /Users/savelevaleksandr/Library/Python/3.9/lib/python/site-packages (from matplotlib<4,>=2.2.2->recommenders) (4.39.3)\n",
      "Requirement already satisfied: kiwisolver>=1.0.1 in /Users/savelevaleksandr/Library/Python/3.9/lib/python/site-packages (from matplotlib<4,>=2.2.2->recommenders) (1.4.4)\n",
      "Requirement already satisfied: packaging>=20.0 in /Users/savelevaleksandr/Library/Python/3.9/lib/python/site-packages (from matplotlib<4,>=2.2.2->recommenders) (23.1)\n",
      "Requirement already satisfied: pillow>=6.2.0 in /Users/savelevaleksandr/Library/Python/3.9/lib/python/site-packages (from matplotlib<4,>=2.2.2->recommenders) (9.5.0)\n",
      "Requirement already satisfied: pyparsing>=2.3.1 in /Users/savelevaleksandr/Library/Python/3.9/lib/python/site-packages (from matplotlib<4,>=2.2.2->recommenders) (3.0.9)\n",
      "Requirement already satisfied: python-dateutil>=2.7 in /Users/savelevaleksandr/Library/Python/3.9/lib/python/site-packages (from matplotlib<4,>=2.2.2->recommenders) (2.8.2)\n",
      "Requirement already satisfied: importlib-resources>=3.2.0 in /Users/savelevaleksandr/Library/Python/3.9/lib/python/site-packages (from matplotlib<4,>=2.2.2->recommenders) (5.12.0)\n",
      "Requirement already satisfied: psutil in /Users/savelevaleksandr/Library/Python/3.9/lib/python/site-packages (from memory-profiler<1,>=0.54.0->recommenders) (5.9.5)\n",
      "Collecting click (from nltk<4,>=3.4->recommenders)\n",
      "  Downloading click-8.1.3-py3-none-any.whl (96 kB)\n",
      "\u001b[2K     \u001b[90m━━━━━━━━━━━━━━━━━━━━━━━━━━━━━━━━━━━━━━━━\u001b[0m \u001b[32m96.6/96.6 kB\u001b[0m \u001b[31m1.2 MB/s\u001b[0m eta \u001b[36m0:00:00\u001b[0ma \u001b[36m0:00:01\u001b[0m\n",
      "\u001b[?25hRequirement already satisfied: joblib in /Users/savelevaleksandr/Library/Python/3.9/lib/python/site-packages (from nltk<4,>=3.4->recommenders) (1.2.0)\n",
      "Collecting regex>=2021.8.3 (from nltk<4,>=3.4->recommenders)\n",
      "  Downloading regex-2023.5.5-cp39-cp39-macosx_10_9_x86_64.whl (294 kB)\n",
      "\u001b[2K     \u001b[90m━━━━━━━━━━━━━━━━━━━━━━━━━━━━━━━━━━━━━━━\u001b[0m \u001b[32m294.4/294.4 kB\u001b[0m \u001b[31m1.3 MB/s\u001b[0m eta \u001b[36m0:00:00\u001b[0ma \u001b[36m0:00:01\u001b[0m\n",
      "\u001b[?25hRequirement already satisfied: llvmlite<0.40,>=0.39.0dev0 in /Users/savelevaleksandr/Library/Python/3.9/lib/python/site-packages (from numba<1,>=0.38.1->recommenders) (0.39.1)\n",
      "Requirement already satisfied: setuptools in /Users/savelevaleksandr/Library/Python/3.9/lib/python/site-packages (from numba<1,>=0.38.1->recommenders) (67.7.2)\n",
      "Requirement already satisfied: pytz>=2020.1 in /Users/savelevaleksandr/Library/Python/3.9/lib/python/site-packages (from pandas<2,>1.0.3->recommenders) (2023.3)\n",
      "Collecting multimethod (from pandera[strategies]>=0.6.5->recommenders)\n",
      "  Downloading multimethod-1.9.1-py3-none-any.whl (10 kB)\n",
      "Collecting pydantic (from pandera[strategies]>=0.6.5->recommenders)\n",
      "  Downloading pydantic-1.10.7-cp39-cp39-macosx_10_9_x86_64.whl (2.9 MB)\n",
      "\u001b[2K     \u001b[90m━━━━━━━━━━━━━━━━━━━━━━━━━━━━━━━━━━━━━━━━\u001b[0m \u001b[32m2.9/2.9 MB\u001b[0m \u001b[31m1.7 MB/s\u001b[0m eta \u001b[36m0:00:00\u001b[0m00:01\u001b[0m00:01\u001b[0m\n",
      "\u001b[?25hCollecting typing-inspect>=0.6.0 (from pandera[strategies]>=0.6.5->recommenders)\n",
      "  Downloading typing_inspect-0.8.0-py3-none-any.whl (8.7 kB)\n",
      "Requirement already satisfied: wrapt in /Users/savelevaleksandr/Library/Python/3.9/lib/python/site-packages (from pandera[strategies]>=0.6.5->recommenders) (1.14.1)\n",
      "Collecting hypothesis>=5.41.1 (from pandera[strategies]>=0.6.5->recommenders)\n",
      "  Downloading hypothesis-6.75.2-py3-none-any.whl (413 kB)\n",
      "\u001b[2K     \u001b[90m━━━━━━━━━━━━━━━━━━━━━━━━━━━━━━━━━━━━━━━\u001b[0m \u001b[32m413.5/413.5 kB\u001b[0m \u001b[31m2.1 MB/s\u001b[0m eta \u001b[36m0:00:00\u001b[0ma \u001b[36m0:00:01\u001b[0m\n",
      "\u001b[?25hRequirement already satisfied: charset-normalizer<4,>=2 in /Users/savelevaleksandr/Library/Python/3.9/lib/python/site-packages (from requests<3,>=2.0.0->recommenders) (3.1.0)\n",
      "Requirement already satisfied: idna<4,>=2.5 in /Users/savelevaleksandr/Library/Python/3.9/lib/python/site-packages (from requests<3,>=2.0.0->recommenders) (3.4)\n",
      "Requirement already satisfied: urllib3<1.27,>=1.21.1 in /Users/savelevaleksandr/Library/Python/3.9/lib/python/site-packages (from requests<3,>=2.0.0->recommenders) (1.26.15)\n",
      "Requirement already satisfied: certifi>=2017.4.17 in /Users/savelevaleksandr/Library/Python/3.9/lib/python/site-packages (from requests<3,>=2.0.0->recommenders) (2022.12.7)\n",
      "Requirement already satisfied: six>=1.7.0 in /Users/savelevaleksandr/Library/Python/3.9/lib/python/site-packages (from retrying>=1.3.3->recommenders) (1.16.0)\n",
      "Requirement already satisfied: threadpoolctl>=2.0.0 in /Users/savelevaleksandr/Library/Python/3.9/lib/python/site-packages (from scikit-learn<1.0.3,>=0.22.1->recommenders) (3.1.0)\n",
      "Collecting filelock (from transformers<5,>=2.5.0->recommenders)\n",
      "  Downloading filelock-3.12.0-py3-none-any.whl (10 kB)\n",
      "Collecting huggingface-hub<1.0,>=0.11.0 (from transformers<5,>=2.5.0->recommenders)\n",
      "  Downloading huggingface_hub-0.14.1-py3-none-any.whl (224 kB)\n",
      "\u001b[2K     \u001b[90m━━━━━━━━━━━━━━━━━━━━━━━━━━━━━━━━━━━━━━━\u001b[0m \u001b[32m224.5/224.5 kB\u001b[0m \u001b[31m2.1 MB/s\u001b[0m eta \u001b[36m0:00:00\u001b[0ma \u001b[36m0:00:01\u001b[0m\n",
      "\u001b[?25hCollecting tokenizers!=0.11.3,<0.14,>=0.11.1 (from transformers<5,>=2.5.0->recommenders)\n",
      "  Downloading tokenizers-0.13.3-cp39-cp39-macosx_10_11_x86_64.whl (4.0 MB)\n",
      "\u001b[2K     \u001b[90m━━━━━━━━━━━━━━━━━━━━━━━━━━━━━━━━━━━━━━━━\u001b[0m \u001b[32m4.0/4.0 MB\u001b[0m \u001b[31m2.6 MB/s\u001b[0m eta \u001b[36m0:00:00\u001b[0m00:01\u001b[0m00:01\u001b[0m\n",
      "\u001b[?25hCollecting fsspec (from huggingface-hub<1.0,>=0.11.0->transformers<5,>=2.5.0->recommenders)\n",
      "  Downloading fsspec-2023.4.0-py3-none-any.whl (153 kB)\n",
      "\u001b[2K     \u001b[90m━━━━━━━━━━━━━━━━━━━━━━━━━━━━━━━━━━━━━━━\u001b[0m \u001b[32m154.0/154.0 kB\u001b[0m \u001b[31m2.3 MB/s\u001b[0m eta \u001b[36m0:00:00\u001b[0m00:01\u001b[0m\n",
      "\u001b[?25hRequirement already satisfied: typing-extensions>=3.7.4.3 in /Users/savelevaleksandr/Library/Python/3.9/lib/python/site-packages (from huggingface-hub<1.0,>=0.11.0->transformers<5,>=2.5.0->recommenders) (4.5.0)\n",
      "Collecting attrs>=19.2.0 (from hypothesis>=5.41.1->pandera[strategies]>=0.6.5->recommenders)\n",
      "  Downloading attrs-23.1.0-py3-none-any.whl (61 kB)\n",
      "\u001b[2K     \u001b[90m━━━━━━━━━━━━━━━━━━━━━━━━━━━━━━━━━━━━━━━━\u001b[0m \u001b[32m61.2/61.2 kB\u001b[0m \u001b[31m2.0 MB/s\u001b[0m eta \u001b[36m0:00:00\u001b[0m\n",
      "\u001b[?25hCollecting sortedcontainers<3.0.0,>=2.1.0 (from hypothesis>=5.41.1->pandera[strategies]>=0.6.5->recommenders)\n",
      "  Downloading sortedcontainers-2.4.0-py2.py3-none-any.whl (29 kB)\n",
      "Collecting exceptiongroup>=1.0.0 (from hypothesis>=5.41.1->pandera[strategies]>=0.6.5->recommenders)\n",
      "  Downloading exceptiongroup-1.1.1-py3-none-any.whl (14 kB)\n",
      "Requirement already satisfied: zipp>=3.1.0 in /Users/savelevaleksandr/Library/Python/3.9/lib/python/site-packages (from importlib-resources>=3.2.0->matplotlib<4,>=2.2.2->recommenders) (3.15.0)\n",
      "Collecting mypy-extensions>=0.3.0 (from typing-inspect>=0.6.0->pandera[strategies]>=0.6.5->recommenders)\n",
      "  Downloading mypy_extensions-1.0.0-py3-none-any.whl (4.7 kB)\n",
      "Collecting mpmath (from powerlaw->cornac<2,>=1.1.2->recommenders)\n",
      "  Downloading mpmath-1.3.0-py3-none-any.whl (536 kB)\n",
      "\u001b[2K     \u001b[90m━━━━━━━━━━━━━━━━━━━━━━━━━━━━━━━━━━━━━━━\u001b[0m \u001b[32m536.2/536.2 kB\u001b[0m \u001b[31m2.6 MB/s\u001b[0m eta \u001b[36m0:00:00\u001b[0m00:01\u001b[0m00:01\u001b[0m\n",
      "\u001b[?25hBuilding wheels for collected packages: lightfm, scikit-surprise\n",
      "  Building wheel for lightfm (setup.py) ... \u001b[?25ldone\n",
      "\u001b[?25h  Created wheel for lightfm: filename=lightfm-1.17-cp39-cp39-macosx_10_9_universal2.whl size=536255 sha256=c14fd24e37a5de7dd23d147689750bb65c9453b07c61e5379cebf273b56f37bb\n",
      "  Stored in directory: /Users/savelevaleksandr/Library/Caches/pip/wheels/d8/65/93/6ac8180274dc2e8f86ff326be62da1dfa55dc158fd45faba7d\n",
      "  Building wheel for scikit-surprise (setup.py) ... \u001b[?25ldone\n",
      "\u001b[?25h  Created wheel for scikit-surprise: filename=scikit_surprise-1.1.3-cp39-cp39-macosx_10_9_universal2.whl size=1607900 sha256=b0f3c3cdd6d09bf9711a80a2bdfe81253eb865d69e0d3bc9cffd37ee56dbcd8a\n",
      "  Stored in directory: /Users/savelevaleksandr/Library/Caches/pip/wheels/c6/3a/46/9b17b3512bdf283c6cb84f59929cdd5199d4e754d596d22784\n",
      "Successfully built lightfm scikit-surprise\n",
      "Installing collected packages: tokenizers, sortedcontainers, mpmath, tqdm, retrying, regex, pyyaml, pydantic, patsy, mypy-extensions, multimethod, memory-profiler, jinja2, fsspec, filelock, exceptiongroup, click, bottleneck, attrs, typing-inspect, scikit-surprise, scikit-learn, pandas, nltk, hypothesis, huggingface-hub, transformers, statsmodels, powerlaw, pandera, lightgbm, lightfm, cornac, category-encoders, recommenders\n",
      "  Attempting uninstall: scikit-learn\n",
      "    Found existing installation: scikit-learn 1.2.2\n",
      "    Uninstalling scikit-learn-1.2.2:\n",
      "      Successfully uninstalled scikit-learn-1.2.2\n",
      "  Attempting uninstall: pandas\n",
      "    Found existing installation: pandas 2.0.0\n",
      "    Uninstalling pandas-2.0.0:\n",
      "      Successfully uninstalled pandas-2.0.0\n",
      "Successfully installed attrs-23.1.0 bottleneck-1.3.7 category-encoders-1.3.0 click-8.1.3 cornac-1.15.1 exceptiongroup-1.1.1 filelock-3.12.0 fsspec-2023.4.0 huggingface-hub-0.14.1 hypothesis-6.75.2 jinja2-3.0.3 lightfm-1.17 lightgbm-3.3.5 memory-profiler-0.61.0 mpmath-1.3.0 multimethod-1.9.1 mypy-extensions-1.0.0 nltk-3.8.1 pandas-1.5.3 pandera-0.14.5 patsy-0.5.3 powerlaw-1.5 pydantic-1.10.7 pyyaml-5.4.1 recommenders-1.1.1 regex-2023.5.5 retrying-1.3.4 scikit-learn-1.0.2 scikit-surprise-1.1.3 sortedcontainers-2.4.0 statsmodels-0.14.0 tokenizers-0.13.3 tqdm-4.65.0 transformers-4.28.1 typing-inspect-0.8.0\n",
      "Note: you may need to restart the kernel to use updated packages.\n"
     ]
    }
   ],
   "source": [
    "pip install recommenders"
   ]
  }
 ],
 "metadata": {
  "kernelspec": {
   "display_name": "Python 3",
   "language": "python",
   "name": "python3"
  },
  "language_info": {
   "codemirror_mode": {
    "name": "ipython",
    "version": 3
   },
   "file_extension": ".py",
   "mimetype": "text/x-python",
   "name": "python",
   "nbconvert_exporter": "python",
   "pygments_lexer": "ipython3",
   "version": "3.9.6"
  },
  "orig_nbformat": 4
 },
 "nbformat": 4,
 "nbformat_minor": 2
}
